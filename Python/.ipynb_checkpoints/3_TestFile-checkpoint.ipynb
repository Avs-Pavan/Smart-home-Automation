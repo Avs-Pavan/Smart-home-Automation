{
 "cells": [
  {
   "cell_type": "markdown",
   "id": "d1c2c107",
   "metadata": {},
   "source": [
    "# Import Libraries"
   ]
  },
  {
   "cell_type": "code",
   "execution_count": 1,
   "id": "cfa502bb",
   "metadata": {},
   "outputs": [],
   "source": [
    "import warnings\n",
    "warnings.filterwarnings(\"ignore\")\n",
    "\n",
    "import os\n",
    "import librosa\n",
    "import pandas as pd\n",
    "pd.set_option(\"display.max_columns\",None)\n",
    "import numpy as np\n",
    "from tensorflow.keras.models import load_model\n",
    "import pickle\n",
    "import IPython\n",
    "from IPython.display import display, HTML"
   ]
  },
  {
   "cell_type": "markdown",
   "id": "c73df6d0",
   "metadata": {},
   "source": [
    "# Model Loading"
   ]
  },
  {
   "cell_type": "code",
   "execution_count": 2,
   "id": "cf9962d9",
   "metadata": {},
   "outputs": [],
   "source": [
    "model=load_model(\"models/ArtificialNeuralNetwork_model.h5\")"
   ]
  },
  {
   "cell_type": "code",
   "execution_count": 3,
   "id": "6f4e096d",
   "metadata": {},
   "outputs": [],
   "source": [
    "with open(file=\"models/Scaler.pkl\",mode=\"rb\") as file:\n",
    "    scaler=pickle.load(file=file)"
   ]
  },
  {
   "cell_type": "markdown",
   "id": "0f47649f",
   "metadata": {},
   "source": [
    "# Data Loading"
   ]
  },
  {
   "cell_type": "code",
   "execution_count": 4,
   "id": "7607228c",
   "metadata": {},
   "outputs": [],
   "source": [
    "class_labels=['Authorised', 'UnAuthorised']"
   ]
  },
  {
   "cell_type": "code",
   "execution_count": 5,
   "id": "c8796f03",
   "metadata": {},
   "outputs": [
    {
     "name": "stdout",
     "output_type": "stream",
     "text": [
      "['chroma_stft', 'rmse', 'spectral_centroid', 'spectral_bandwidth', 'rolloff zero_crossing_rate', 'mfcc1', 'mfcc2', 'mfcc3', 'mfcc4', 'mfcc5', 'mfcc6', 'mfcc7', 'mfcc8', 'mfcc9', 'mfcc10', 'mfcc11', 'mfcc12', 'mfcc13', 'mfcc14', 'mfcc15', 'mfcc16', 'mfcc17', 'mfcc18', 'mfcc19', 'mfcc20', 'mfcc21']\n"
     ]
    }
   ],
   "source": [
    "header = ['chroma_stft', 'rmse', 'spectral_centroid', 'spectral_bandwidth', 'rolloff zero_crossing_rate']\n",
    "for i in range(1, 22):\n",
    "    header.append('mfcc'+str(i))\n",
    "print(header)"
   ]
  },
  {
   "cell_type": "code",
   "execution_count": 6,
   "id": "525a5a1f",
   "metadata": {},
   "outputs": [],
   "source": [
    "def data_convertion(songname):\n",
    "    data_points=[]\n",
    "    y, sr = librosa.load(songname, mono=True, duration=30)\n",
    "    data_points.append(np.mean(librosa.feature.chroma_stft(y=y, sr=sr)))\n",
    "    data_points.append(np.mean(librosa.feature.rms(y=y)))\n",
    "    data_points.append(np.mean(librosa.feature.spectral_centroid(y=y, sr=sr)))\n",
    "    data_points.append(np.mean(librosa.feature.spectral_bandwidth(y=y, sr=sr)))\n",
    "    data_points.append(np.mean(librosa.feature.spectral_rolloff(y=y, sr=sr)))\n",
    "    data_points.append(np.mean(librosa.feature.zero_crossing_rate(y)))\n",
    "    mfcc = librosa.feature.mfcc(y=y, sr=sr)\n",
    "    for e in mfcc:\n",
    "        data_points.append(np.mean(e))\n",
    "    return data_points"
   ]
  },
  {
   "cell_type": "code",
   "execution_count": 7,
   "id": "84034d0f",
   "metadata": {},
   "outputs": [
    {
     "data": {
      "text/plain": [
       "['authorized (1).mp4',\n",
       " 'authorized (10).mp4',\n",
       " 'authorized (100).mp4',\n",
       " 'authorized (11).mp4',\n",
       " 'authorized (12).mp4',\n",
       " 'authorized (13).mp4',\n",
       " 'authorized (14).mp4',\n",
       " 'authorized (15).mp4',\n",
       " 'authorized (16).mp4',\n",
       " 'authorized (17).mp4',\n",
       " 'authorized (18).mp4',\n",
       " 'authorized (19).mp4',\n",
       " 'authorized (2).mp4',\n",
       " 'authorized (20).mp4',\n",
       " 'authorized (21).mp4',\n",
       " 'authorized (22).mp4',\n",
       " 'authorized (23).mp4',\n",
       " 'authorized (24).mp4',\n",
       " 'authorized (25).mp4',\n",
       " 'authorized (26).mp4',\n",
       " 'authorized (27).mp4',\n",
       " 'authorized (28).mp4',\n",
       " 'authorized (29).mp4',\n",
       " 'authorized (3).mp4',\n",
       " 'authorized (30).mp4',\n",
       " 'authorized (31).mp4',\n",
       " 'authorized (32).mp4',\n",
       " 'authorized (33).mp4',\n",
       " 'authorized (34).mp4',\n",
       " 'authorized (35).mp4',\n",
       " 'authorized (36).mp4',\n",
       " 'authorized (37).mp4',\n",
       " 'authorized (38).mp4',\n",
       " 'authorized (39).mp4',\n",
       " 'authorized (4).mp4',\n",
       " 'authorized (40).mp4',\n",
       " 'authorized (41).mp4',\n",
       " 'authorized (42).mp4',\n",
       " 'authorized (43).mp4',\n",
       " 'authorized (44).mp4',\n",
       " 'authorized (45).mp4',\n",
       " 'authorized (46).mp4',\n",
       " 'authorized (47).mp4',\n",
       " 'authorized (48).mp4',\n",
       " 'authorized (49).mp4',\n",
       " 'authorized (5).mp4',\n",
       " 'authorized (50).mp4',\n",
       " 'authorized (51).mp4',\n",
       " 'authorized (52).mp4',\n",
       " 'authorized (53).mp4',\n",
       " 'authorized (54).mp4',\n",
       " 'authorized (55).mp4',\n",
       " 'authorized (56).mp4',\n",
       " 'authorized (57).mp4',\n",
       " 'authorized (58).mp4',\n",
       " 'authorized (59).mp4',\n",
       " 'authorized (6).mp4',\n",
       " 'authorized (60).mp4',\n",
       " 'authorized (61).mp4',\n",
       " 'authorized (62).mp4',\n",
       " 'authorized (63).mp4',\n",
       " 'authorized (64).mp4',\n",
       " 'authorized (65).mp4',\n",
       " 'authorized (66).mp4',\n",
       " 'authorized (67).mp4',\n",
       " 'authorized (68).mp4',\n",
       " 'authorized (69).mp4',\n",
       " 'authorized (7).mp4',\n",
       " 'authorized (70).mp4',\n",
       " 'authorized (71).mp4',\n",
       " 'authorized (72).mp4',\n",
       " 'authorized (73).mp4',\n",
       " 'authorized (74).mp4',\n",
       " 'authorized (75).mp4',\n",
       " 'authorized (76).mp4',\n",
       " 'authorized (77).mp4',\n",
       " 'authorized (78).mp4',\n",
       " 'authorized (79).mp4',\n",
       " 'authorized (8).mp4',\n",
       " 'authorized (80).mp4',\n",
       " 'authorized (81).mp4',\n",
       " 'authorized (82).mp4',\n",
       " 'authorized (83).mp4',\n",
       " 'authorized (84).mp4',\n",
       " 'authorized (85).mp4',\n",
       " 'authorized (86).mp4',\n",
       " 'authorized (87).mp4',\n",
       " 'authorized (88).mp4',\n",
       " 'authorized (89).mp4',\n",
       " 'authorized (9).mp4',\n",
       " 'authorized (90).mp4',\n",
       " 'authorized (91).mp4',\n",
       " 'authorized (92).mp4',\n",
       " 'authorized (93).mp4',\n",
       " 'authorized (94).mp4',\n",
       " 'authorized (95).mp4',\n",
       " 'authorized (96).mp4',\n",
       " 'authorized (97).mp4',\n",
       " 'authorized (98).mp4',\n",
       " 'authorized (99).mp4',\n",
       " 'unauthorized (1).mp4',\n",
       " 'unauthorized (10).mp4',\n",
       " 'unauthorized (11).mp4',\n",
       " 'unauthorized (12).mp4',\n",
       " 'unauthorized (13).mp4',\n",
       " 'unauthorized (14).mp4',\n",
       " 'unauthorized (15).mp4',\n",
       " 'unauthorized (16).mp4',\n",
       " 'unauthorized (17).mp4',\n",
       " 'unauthorized (18).mp4',\n",
       " 'unauthorized (19).mp4',\n",
       " 'unauthorized (2).mp4',\n",
       " 'unauthorized (20).mp4',\n",
       " 'unauthorized (21).mp4',\n",
       " 'unauthorized (22).mp4',\n",
       " 'unauthorized (23).mp4',\n",
       " 'unauthorized (24).mp4',\n",
       " 'unauthorized (25).mp4',\n",
       " 'unauthorized (26).mp4',\n",
       " 'unauthorized (27).mp4',\n",
       " 'unauthorized (28).mp4',\n",
       " 'unauthorized (29).mp4',\n",
       " 'unauthorized (3).mp4',\n",
       " 'unauthorized (30).mp4',\n",
       " 'unauthorized (31).mp4',\n",
       " 'unauthorized (32).mp4',\n",
       " 'unauthorized (33).mp4',\n",
       " 'unauthorized (34).mp4',\n",
       " 'unauthorized (35).mp4',\n",
       " 'unauthorized (36).mp4',\n",
       " 'unauthorized (37).mp4',\n",
       " 'unauthorized (38).mp4',\n",
       " 'unauthorized (39).mp4',\n",
       " 'unauthorized (4).mp4',\n",
       " 'unauthorized (40).mp4',\n",
       " 'unauthorized (41).mp4',\n",
       " 'unauthorized (42).mp4',\n",
       " 'unauthorized (43).mp4',\n",
       " 'unauthorized (44).mp4',\n",
       " 'unauthorized (45).mp4',\n",
       " 'unauthorized (46).mp4',\n",
       " 'unauthorized (47).mp4',\n",
       " 'unauthorized (48).mp4',\n",
       " 'unauthorized (49).mp4',\n",
       " 'unauthorized (5).mp4',\n",
       " 'unauthorized (50).mp4',\n",
       " 'unauthorized (51).mp4',\n",
       " 'unauthorized (52).mp4',\n",
       " 'unauthorized (53).mp4',\n",
       " 'unauthorized (54).mp4',\n",
       " 'unauthorized (55).mp4',\n",
       " 'unauthorized (56).mp4',\n",
       " 'unauthorized (57).mp4',\n",
       " 'unauthorized (58).mp4',\n",
       " 'unauthorized (59).mp4',\n",
       " 'unauthorized (6).mp4',\n",
       " 'unauthorized (60).mp4',\n",
       " 'unauthorized (7).mp4',\n",
       " 'unauthorized (8).mp4',\n",
       " 'unauthorized (9).mp4']"
      ]
     },
     "execution_count": 7,
     "metadata": {},
     "output_type": "execute_result"
    }
   ],
   "source": [
    "os.listdir(\"user_inputs\")"
   ]
  },
  {
   "cell_type": "markdown",
   "id": "983558f4",
   "metadata": {},
   "source": [
    "***User Input***"
   ]
  },
  {
   "cell_type": "code",
   "execution_count": 19,
   "id": "42ba4426",
   "metadata": {},
   "outputs": [
    {
     "name": "stdout",
     "output_type": "stream",
     "text": [
      "Enter / Paste filenameauthorized (75).mp4\n",
      "user_inputs\\authorized (75).mp4\n"
     ]
    }
   ],
   "source": [
    "input_file=input(\"Enter / Paste filename\")\n",
    "filepath=os.path.join('user_inputs',input_file)\n",
    "print(filepath)"
   ]
  },
  {
   "cell_type": "code",
   "execution_count": 20,
   "id": "7f3a9a32",
   "metadata": {},
   "outputs": [
    {
     "data": {
      "text/html": [
       "\n",
       "                <audio  controls=\"controls\" >\n",
       "                    <source src=\"data:video/mp4;base64,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\" type=\"video/mp4\" />\n",
       "                    Your browser does not support the audio element.\n",
       "                </audio>\n",
       "              "
      ],
      "text/plain": [
       "<IPython.lib.display.Audio object>"
      ]
     },
     "execution_count": 20,
     "metadata": {},
     "output_type": "execute_result"
    }
   ],
   "source": [
    "IPython.display.Audio(filepath)"
   ]
  },
  {
   "cell_type": "code",
   "execution_count": 21,
   "id": "5b5dd9bb",
   "metadata": {},
   "outputs": [
    {
     "data": {
      "text/html": [
       "<div>\n",
       "<style scoped>\n",
       "    .dataframe tbody tr th:only-of-type {\n",
       "        vertical-align: middle;\n",
       "    }\n",
       "\n",
       "    .dataframe tbody tr th {\n",
       "        vertical-align: top;\n",
       "    }\n",
       "\n",
       "    .dataframe thead th {\n",
       "        text-align: right;\n",
       "    }\n",
       "</style>\n",
       "<table border=\"1\" class=\"dataframe\">\n",
       "  <thead>\n",
       "    <tr style=\"text-align: right;\">\n",
       "      <th></th>\n",
       "      <th>chroma_stft</th>\n",
       "      <th>rmse</th>\n",
       "      <th>spectral_centroid</th>\n",
       "      <th>spectral_bandwidth</th>\n",
       "      <th>rolloff zero_crossing_rate</th>\n",
       "      <th>mfcc1</th>\n",
       "      <th>mfcc2</th>\n",
       "      <th>mfcc3</th>\n",
       "      <th>mfcc4</th>\n",
       "      <th>mfcc5</th>\n",
       "      <th>mfcc6</th>\n",
       "      <th>mfcc7</th>\n",
       "      <th>mfcc8</th>\n",
       "      <th>mfcc9</th>\n",
       "      <th>mfcc10</th>\n",
       "      <th>mfcc11</th>\n",
       "      <th>mfcc12</th>\n",
       "      <th>mfcc13</th>\n",
       "      <th>mfcc14</th>\n",
       "      <th>mfcc15</th>\n",
       "      <th>mfcc16</th>\n",
       "      <th>mfcc17</th>\n",
       "      <th>mfcc18</th>\n",
       "      <th>mfcc19</th>\n",
       "      <th>mfcc20</th>\n",
       "      <th>mfcc21</th>\n",
       "    </tr>\n",
       "  </thead>\n",
       "  <tbody>\n",
       "    <tr>\n",
       "      <th>0</th>\n",
       "      <td>0.374718</td>\n",
       "      <td>0.059864</td>\n",
       "      <td>1560.422189</td>\n",
       "      <td>1962.233796</td>\n",
       "      <td>3315.387443</td>\n",
       "      <td>0.057431</td>\n",
       "      <td>-360.753082</td>\n",
       "      <td>107.859818</td>\n",
       "      <td>2.988827</td>\n",
       "      <td>23.512108</td>\n",
       "      <td>5.267117</td>\n",
       "      <td>-0.057058</td>\n",
       "      <td>-3.345764</td>\n",
       "      <td>-9.003603</td>\n",
       "      <td>-17.183006</td>\n",
       "      <td>1.355731</td>\n",
       "      <td>-7.372633</td>\n",
       "      <td>1.200326</td>\n",
       "      <td>-11.655389</td>\n",
       "      <td>9.687218</td>\n",
       "      <td>-2.699006</td>\n",
       "      <td>-9.473449</td>\n",
       "      <td>0.198941</td>\n",
       "      <td>-5.188338</td>\n",
       "      <td>-8.233576</td>\n",
       "      <td>-3.623478</td>\n",
       "    </tr>\n",
       "  </tbody>\n",
       "</table>\n",
       "</div>"
      ],
      "text/plain": [
       "   chroma_stft      rmse  spectral_centroid  spectral_bandwidth  \\\n",
       "0     0.374718  0.059864        1560.422189         1962.233796   \n",
       "\n",
       "   rolloff zero_crossing_rate     mfcc1       mfcc2       mfcc3     mfcc4  \\\n",
       "0                 3315.387443  0.057431 -360.753082  107.859818  2.988827   \n",
       "\n",
       "       mfcc5     mfcc6     mfcc7     mfcc8     mfcc9     mfcc10    mfcc11  \\\n",
       "0  23.512108  5.267117 -0.057058 -3.345764 -9.003603 -17.183006  1.355731   \n",
       "\n",
       "     mfcc12    mfcc13     mfcc14    mfcc15    mfcc16    mfcc17    mfcc18  \\\n",
       "0 -7.372633  1.200326 -11.655389  9.687218 -2.699006 -9.473449  0.198941   \n",
       "\n",
       "     mfcc19    mfcc20    mfcc21  \n",
       "0 -5.188338 -8.233576 -3.623478  "
      ]
     },
     "execution_count": 21,
     "metadata": {},
     "output_type": "execute_result"
    }
   ],
   "source": [
    "data_points=data_convertion(filepath)\n",
    "df=pd.DataFrame(data=[data_points],columns=header)\n",
    "df.head()"
   ]
  },
  {
   "cell_type": "code",
   "execution_count": 22,
   "id": "55928e85",
   "metadata": {},
   "outputs": [
    {
     "data": {
      "text/html": [
       "<div>\n",
       "<style scoped>\n",
       "    .dataframe tbody tr th:only-of-type {\n",
       "        vertical-align: middle;\n",
       "    }\n",
       "\n",
       "    .dataframe tbody tr th {\n",
       "        vertical-align: top;\n",
       "    }\n",
       "\n",
       "    .dataframe thead th {\n",
       "        text-align: right;\n",
       "    }\n",
       "</style>\n",
       "<table border=\"1\" class=\"dataframe\">\n",
       "  <thead>\n",
       "    <tr style=\"text-align: right;\">\n",
       "      <th></th>\n",
       "      <th>chroma_stft</th>\n",
       "      <th>rmse</th>\n",
       "      <th>spectral_centroid</th>\n",
       "      <th>spectral_bandwidth</th>\n",
       "      <th>rolloff zero_crossing_rate</th>\n",
       "      <th>mfcc1</th>\n",
       "      <th>mfcc2</th>\n",
       "      <th>mfcc3</th>\n",
       "      <th>mfcc4</th>\n",
       "      <th>mfcc5</th>\n",
       "      <th>mfcc6</th>\n",
       "      <th>mfcc7</th>\n",
       "      <th>mfcc8</th>\n",
       "      <th>mfcc9</th>\n",
       "      <th>mfcc10</th>\n",
       "      <th>mfcc11</th>\n",
       "      <th>mfcc12</th>\n",
       "      <th>mfcc13</th>\n",
       "      <th>mfcc14</th>\n",
       "      <th>mfcc15</th>\n",
       "      <th>mfcc16</th>\n",
       "      <th>mfcc17</th>\n",
       "      <th>mfcc18</th>\n",
       "      <th>mfcc19</th>\n",
       "      <th>mfcc20</th>\n",
       "      <th>mfcc21</th>\n",
       "    </tr>\n",
       "  </thead>\n",
       "  <tbody>\n",
       "    <tr>\n",
       "      <th>0</th>\n",
       "      <td>-0.96177</td>\n",
       "      <td>-0.449675</td>\n",
       "      <td>-1.282709</td>\n",
       "      <td>-0.66625</td>\n",
       "      <td>-1.030937</td>\n",
       "      <td>-1.307173</td>\n",
       "      <td>-0.516581</td>\n",
       "      <td>0.865065</td>\n",
       "      <td>0.000089</td>\n",
       "      <td>0.278889</td>\n",
       "      <td>-0.133476</td>\n",
       "      <td>-0.930535</td>\n",
       "      <td>0.381433</td>\n",
       "      <td>-0.702397</td>\n",
       "      <td>-0.831536</td>\n",
       "      <td>-0.91699</td>\n",
       "      <td>0.420756</td>\n",
       "      <td>0.097449</td>\n",
       "      <td>-1.715331</td>\n",
       "      <td>1.590461</td>\n",
       "      <td>0.370089</td>\n",
       "      <td>-1.463975</td>\n",
       "      <td>0.778433</td>\n",
       "      <td>-0.645341</td>\n",
       "      <td>-1.500558</td>\n",
       "      <td>-1.039566</td>\n",
       "    </tr>\n",
       "  </tbody>\n",
       "</table>\n",
       "</div>"
      ],
      "text/plain": [
       "   chroma_stft      rmse  spectral_centroid  spectral_bandwidth  \\\n",
       "0     -0.96177 -0.449675          -1.282709            -0.66625   \n",
       "\n",
       "   rolloff zero_crossing_rate     mfcc1     mfcc2     mfcc3     mfcc4  \\\n",
       "0                   -1.030937 -1.307173 -0.516581  0.865065  0.000089   \n",
       "\n",
       "      mfcc5     mfcc6     mfcc7     mfcc8     mfcc9    mfcc10   mfcc11  \\\n",
       "0  0.278889 -0.133476 -0.930535  0.381433 -0.702397 -0.831536 -0.91699   \n",
       "\n",
       "     mfcc12    mfcc13    mfcc14    mfcc15    mfcc16    mfcc17    mfcc18  \\\n",
       "0  0.420756  0.097449 -1.715331  1.590461  0.370089 -1.463975  0.778433   \n",
       "\n",
       "     mfcc19    mfcc20    mfcc21  \n",
       "0 -0.645341 -1.500558 -1.039566  "
      ]
     },
     "execution_count": 22,
     "metadata": {},
     "output_type": "execute_result"
    }
   ],
   "source": [
    "scaled_input=scaler.transform(df.values)\n",
    "df=pd.DataFrame(data=scaled_input,columns=header)\n",
    "df.head()"
   ]
  },
  {
   "cell_type": "markdown",
   "id": "5852a17c",
   "metadata": {},
   "source": [
    "# Result"
   ]
  },
  {
   "cell_type": "code",
   "execution_count": 23,
   "id": "8922a65e",
   "metadata": {},
   "outputs": [
    {
     "name": "stdout",
     "output_type": "stream",
     "text": [
      "Class Name: 0\n",
      "Label Name: Authorised\n"
     ]
    },
    {
     "data": {
      "text/html": [
       "<h1> Permission granted </h1>"
      ],
      "text/plain": [
       "<IPython.core.display.HTML object>"
      ]
     },
     "metadata": {},
     "output_type": "display_data"
    }
   ],
   "source": [
    "pred=model.predict(df.values)\n",
    "\n",
    "class_name=np.argmax(pred[0])\n",
    "label_name=class_labels[class_name]\n",
    "\n",
    "print(f\"Class Name: {class_name}\")\n",
    "print(f\"Label Name: {label_name}\")\n",
    "\n",
    "if class_name==0:\n",
    "    display(HTML(\"<h1> Permission granted </h1>\"))\n",
    "else:\n",
    "    display(HTML(\"<h1> Permission denied </h1>\"))"
   ]
  },
  {
   "cell_type": "markdown",
   "id": "3acfc6bc",
   "metadata": {},
   "source": [
    "---"
   ]
  }
 ],
 "metadata": {
  "kernelspec": {
   "display_name": "Python 3 (ipykernel)",
   "language": "python",
   "name": "python3"
  },
  "language_info": {
   "codemirror_mode": {
    "name": "ipython",
    "version": 3
   },
   "file_extension": ".py",
   "mimetype": "text/x-python",
   "name": "python",
   "nbconvert_exporter": "python",
   "pygments_lexer": "ipython3",
   "version": "3.9.7"
  }
 },
 "nbformat": 4,
 "nbformat_minor": 5
}
